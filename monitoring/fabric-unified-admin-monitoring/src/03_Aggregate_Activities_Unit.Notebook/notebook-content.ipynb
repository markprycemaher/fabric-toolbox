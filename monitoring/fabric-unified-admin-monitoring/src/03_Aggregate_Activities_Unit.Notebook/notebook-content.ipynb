{
  "cells": [
    {
      "cell_type": "markdown",
      "source": [
        "#### Activities (aggregated last 30 days)\n",
        "\n",
        "##### Data ingestion strategy:\n",
        "<mark style=\"background: #88D5FF;\">**REPLACE**</mark>\n",
        "\n",
        "##### Related pipeline:\n",
        "\n",
        "**Load_Activities_E2E**\n",
        "\n",
        "##### Source:\n",
        "\n",
        "**1 Delta table**  from FUAM_Lakehouse\n",
        "- **activities**\n",
        "\n",
        "##### Target:\n",
        "\n",
        "**1 Delta table** in FUAM_Lakehouse \n",
        "- **aggr_table_name** variable value"
      ],
      "metadata": {},
      "id": "db2f0281-8f9a-49a0-9b1d-a14f9afd2a19"
    },
    {
      "cell_type": "code",
      "source": [
        "## Parameters\n",
        "display_data = False"
      ],
      "outputs": [],
      "execution_count": 6,
      "metadata": {
        "tags": [
          "parameters"
        ],
        "microsoft": {
          "language": "python",
          "language_group": "synapse_pyspark"
        },
        "cellStatus": ""
      },
      "id": "ccada787-81b4-4cec-bb59-4c06018cdc6d"
    },
    {
      "cell_type": "code",
      "source": [
        "## Variables\n",
        "aggr_table_name = \"aggregated_activities_last_30days\""
      ],
      "outputs": [],
      "execution_count": 7,
      "metadata": {
        "microsoft": {
          "language": "python",
          "language_group": "synapse_pyspark"
        },
        "cellStatus": ""
      },
      "id": "63bc1b65-4f3f-4793-9c14-a88386d0f287"
    },
    {
      "cell_type": "code",
      "source": [
        "# Get aggregated Gold data\n",
        "query = \"\"\"\n",
        "SELECT \n",
        "    CreationDate,\n",
        "    CreationDateKey,\n",
        "    CreationHour,\n",
        "    Activity,\n",
        "    Experience,\n",
        "    Workload,\n",
        "    UPPER(CapacityId) as CapacityId,\n",
        "    UPPER(WorkspaceId) as WorkspaceId,\n",
        "    GatewayId,\n",
        "    COALESCE(UPPER(ArtifactId), UPPER(ObjectId)) AS fuam_item_id,\n",
        "    COALESCE(ObjectType, ArtifactKind) AS fuam_item_kind,\n",
        "    CASE \n",
        "        WHEN ResultStatus = 'Failed' THEN 'Failed' \n",
        "        WHEN ResultStatus = 'InProgress' THEN 'InProgress'\n",
        "        WHEN ResultStatus = 'Succeeded' THEN 'Succeeded'\n",
        "        WHEN IsSuccess = 1 THEN 'Succeeded'\n",
        "        ELSE 'N/A'\n",
        "    END AS fuam_activity_status,\n",
        "    COUNT(*) AS CountOfActivities,\n",
        "    COUNT(DISTINCT UserId) AS DistinctCountOfUsers\n",
        "FROM FUAM_Lakehouse.activities\n",
        "WHERE CreationDate >= date_sub(CAST(current_timestamp() as DATE), 30)\n",
        "GROUP BY\n",
        "    CreationDate,\n",
        "    CreationDateKey,\n",
        "    CreationHour,\n",
        "    Activity,\n",
        "    Experience,\n",
        "    Workload,\n",
        "    CapacityId,\n",
        "    WorkspaceId,\n",
        "    GatewayId,\n",
        "    ArtifactId,\n",
        "    ItemId,\n",
        "    ObjectId,\n",
        "    ObjectType,\n",
        "    ArtifactKind,\n",
        "    ResultStatus,\n",
        "    IsSuccess\n",
        "ORDER BY CreationDate DESC\n",
        "\"\"\"\n",
        "\n",
        "# Query data\n",
        "agg_df = spark.sql(query) \n",
        "\n"
      ],
      "outputs": [],
      "execution_count": 8,
      "metadata": {
        "microsoft": {
          "language": "python",
          "language_group": "synapse_pyspark"
        },
        "cellStatus": ""
      },
      "id": "96fee482-85fb-4c16-a938-c3a06c573395"
    },
    {
      "cell_type": "code",
      "source": [
        "if display_data:\n",
        "    display(agg_df)"
      ],
      "outputs": [],
      "execution_count": 9,
      "metadata": {
        "microsoft": {
          "language": "python",
          "language_group": "synapse_pyspark"
        },
        "cellStatus": ""
      },
      "id": "125583c7-6eb7-406e-8bb8-219681dfba60"
    },
    {
      "cell_type": "code",
      "source": [
        "# Overwrite aggregated table\n",
        "agg_df.write.mode(\"overwrite\").option(\"mergeSchema\", \"true\").format(\"delta\").saveAsTable(aggr_table_name)"
      ],
      "outputs": [],
      "execution_count": 10,
      "metadata": {
        "microsoft": {
          "language": "python",
          "language_group": "synapse_pyspark"
        },
        "cellStatus": ""
      },
      "id": "baecfa23-5c37-4333-b8fb-a263a33460ba"
    }
  ],
  "metadata": {
    "language_info": {
      "name": "python"
    },
    "kernel_info": {
      "name": "synapse_pyspark"
    },
    "a365ComputeOptions": null,
    "sessionKeepAliveTimeout": 0,
    "microsoft": {
      "language": "python",
      "language_group": "synapse_pyspark",
      "ms_spell_check": {
        "ms_spell_check_language": "en"
      }
    },
    "widgets": {},
    "nteract": {
      "version": "nteract-front-end@1.0.0"
    },
    "spark_compute": {
      "compute_id": "/trident/default",
      "session_options": {
        "conf": {
          "spark.synapse.nbs.session.timeout": "1200000"
        }
      }
    },
    "dependencies": {
      "lakehouse": {
        "default_lakehouse": "6cff634b-88f7-3505-bed2-c03a36776a8b",
        "default_lakehouse_name": "FUAM_Lakehouse",
        "default_lakehouse_workspace_id": "88c8d9fa-2c24-3fad-8f46-b36431c7ba1d",
        "known_lakehouses": []
      },
      "environment": {}
    }
  },
  "nbformat": 4,
  "nbformat_minor": 5
}