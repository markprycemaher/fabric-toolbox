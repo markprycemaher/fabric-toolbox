{
  "cells": [
    {
      "cell_type": "markdown",
      "source": [
        "#### Tenant Admin Settings\n",
        "\n",
        "##### Data ingestion strategy:\n",
        "<mark style=\"background: lightgreen;\">**APPEND**</mark>\n",
        "\n",
        "##### Related pipeline:\n",
        "\n",
        "**Load_Tenant_Settings_E2E**\n",
        "\n",
        "##### Source:\n",
        "\n",
        "**Files** from FUAM_Lakehouse folder **bronze_file_location** variable\n",
        "\n",
        "##### Target:\n",
        "\n",
        "**1 Delta table** in FUAM_Lakehouse \n",
        "- **gold_table_name** variable value"
      ],
      "metadata": {},
      "id": "6f06a48c-7356-4c68-ab10-eddba8661e96"
    },
    {
      "cell_type": "code",
      "source": [
        "from datetime import datetime, timedelta\n",
        "from pyspark.sql.functions import col, explode\n",
        "from delta.tables import *"
      ],
      "outputs": [],
      "execution_count": null,
      "metadata": {
        "microsoft": {
          "language": "python",
          "language_group": "synapse_pyspark"
        }
      },
      "id": "2523d276-fb0d-4b3e-a9a7-183c9e8d63b5"
    },
    {
      "cell_type": "code",
      "source": [
        "## Parameters\n",
        "display_data = False"
      ],
      "outputs": [],
      "execution_count": null,
      "metadata": {
        "tags": [
          "parameters"
        ],
        "microsoft": {
          "language": "python",
          "language_group": "synapse_pyspark"
        }
      },
      "id": "4549137c-b236-492d-b8f4-20dc8322afa0"
    },
    {
      "cell_type": "code",
      "source": [
        "## Variables\n",
        "bronze_file_location = f\"Files/raw/tenant_settings/\"\n",
        "silver_table_name = \"FUAM_Staging_Lakehouse.tenant_settings_silver\"\n",
        "gold_table_name = \"tenant_settings\"\n",
        "gold_table_name_with_prefix = f\"Tables/{gold_table_name}\""
      ],
      "outputs": [],
      "execution_count": null,
      "metadata": {
        "microsoft": {
          "language": "python",
          "language_group": "synapse_pyspark"
        }
      },
      "id": "c107ade4-2663-4591-8a8b-575f82a42b43"
    },
    {
      "cell_type": "code",
      "source": [
        "# Clean Silver table, if exists\n",
        "if spark.catalog.tableExists(silver_table_name):\n",
        "    del_query = \"DELETE FROM \" + silver_table_name\n",
        "    spark.sql(del_query)"
      ],
      "outputs": [],
      "execution_count": null,
      "metadata": {
        "microsoft": {
          "language": "python",
          "language_group": "synapse_pyspark"
        }
      },
      "id": "048ed265-7073-40a5-9635-3df49d1672a0"
    },
    {
      "cell_type": "code",
      "source": [
        "# Get Bronze data\n",
        "bronze_df = spark.read.option(\"multiline\", \"true\").json(bronze_file_location)\n",
        "\n",
        "if display_data:\n",
        "    display(bronze_df)\n"
      ],
      "outputs": [],
      "execution_count": null,
      "metadata": {
        "microsoft": {
          "language": "python",
          "language_group": "synapse_pyspark"
        }
      },
      "id": "48b6edf1-33d0-4b68-9f17-a014cb2de256"
    },
    {
      "cell_type": "code",
      "source": [
        "# Explode json subset structure\n",
        "# Error handling, because of API change which is not rolled out everywhere\n",
        "try:\n",
        "    exploded_df = bronze_df.select(explode(\"tenantSettings\").alias(\"d\"))\n",
        "except:\n",
        "    exploded_df = bronze_df.select(explode(\"value\").alias(\"d\"))\n",
        "\n",
        "# Extract json objects to tabular form\n",
        "silver_df = exploded_df.select(col(\"d.*\"))\n",
        "\n",
        "if display_data:\n",
        "    display(silver_df)"
      ],
      "outputs": [],
      "execution_count": null,
      "metadata": {
        "microsoft": {
          "language": "python",
          "language_group": "synapse_pyspark"
        }
      },
      "id": "05e5b1fa-e679-481c-9bdf-dadd0ed628cb"
    },
    {
      "cell_type": "code",
      "source": [
        "# Write prepared bronze_df to silver delta table\n",
        "silver_df.write.mode(\"append\").option(\"mergeSchema\", \"true\").format(\"delta\").saveAsTable(silver_table_name)"
      ],
      "outputs": [],
      "execution_count": null,
      "metadata": {
        "microsoft": {
          "language": "python",
          "language_group": "synapse_pyspark"
        }
      },
      "id": "603bd49b-704c-4340-8421-5b07a2ae3d81"
    },
    {
      "cell_type": "code",
      "source": [
        "# Get Silver table data\n",
        "query = \"\"\"\n",
        "SELECT \n",
        "     to_date(current_timestamp()) AS TransferDate\n",
        "     ,current_timestamp() AS TransferDateTime\n",
        "     ,*\n",
        "FROM \"\"\" + silver_table_name\n",
        "\n",
        "\n",
        "silver_df = spark.sql(query)\n",
        "\n",
        "if display_data:\n",
        "     display(silver_df)"
      ],
      "outputs": [],
      "execution_count": null,
      "metadata": {
        "microsoft": {
          "language": "python",
          "language_group": "synapse_pyspark"
        }
      },
      "id": "6d1cc1e5-f346-4bc2-a0e7-568637ac7440"
    },
    {
      "cell_type": "code",
      "source": [
        "# Merge semantic model refreshes to gold table\n",
        "silver_df.write.mode(\"append\").option(\"mergeSchema\", \"true\").format(\"delta\").saveAsTable(gold_table_name)"
      ],
      "outputs": [],
      "execution_count": null,
      "metadata": {
        "microsoft": {
          "language": "python",
          "language_group": "synapse_pyspark"
        }
      },
      "id": "fd79eba7-a84f-4899-a876-c38bb41f6edd"
    },
    {
      "cell_type": "code",
      "source": [
        "# Write history of bronze files\n",
        "mssparkutils.fs.cp(bronze_file_location, bronze_file_location.replace(\"Files/raw/\", \"Files/history/\") + datetime.now().strftime('%Y/%m/%d') + \"/\", True)"
      ],
      "outputs": [],
      "execution_count": null,
      "metadata": {
        "microsoft": {
          "language": "python",
          "language_group": "synapse_pyspark"
        }
      },
      "id": "2c437a12-cfed-46f6-ae30-4a435deb70fe"
    },
    {
      "cell_type": "code",
      "source": [
        "# Extract security group members\n",
        "df_enabledSecurityGroups = spark.sql(\"\"\"\n",
        "SELECT settingName, TransferDateTime, enabledSecurityGroup.graphId , enabledSecurityGroup.name FROM (\n",
        "SELECT settingName, TransferDateTime, EXPLODE(enabledSecurityGroups) enabledSecurityGroup \n",
        "FROM FUAM_Lakehouse.tenant_settings ) a\n",
        "\"\"\")\n",
        "\n",
        "df_enabledSecurityGroups.write.mode(\"overwrite\").option(\"mergeSchema\", \"true\").format(\"delta\").saveAsTable(\"tenant_settings_enabled_security_groups\")\n"
      ],
      "outputs": [],
      "execution_count": null,
      "metadata": {
        "microsoft": {
          "language": "python",
          "language_group": "synapse_pyspark"
        },
        "cellStatus": ""
      },
      "id": "5465f8f3-5573-4085-b99d-2b83902b3248"
    }
  ],
  "metadata": {
    "language_info": {
      "name": "python"
    },
    "kernel_info": {
      "name": "synapse_pyspark"
    },
    "a365ComputeOptions": null,
    "sessionKeepAliveTimeout": 0,
    "microsoft": {
      "language": "python",
      "language_group": "synapse_pyspark",
      "ms_spell_check": {
        "ms_spell_check_language": "en"
      }
    },
    "widgets": {},
    "nteract": {
      "version": "nteract-front-end@1.0.0"
    },
    "kernelspec": {
      "name": "synapse_pyspark",
      "language": "Python",
      "display_name": "Synapse PySpark"
    },
    "spark_compute": {
      "compute_id": "/trident/default",
      "session_options": {
        "conf": {
          "spark.synapse.nbs.session.timeout": "1200000"
        }
      }
    },
    "dependencies": {
      "lakehouse": {
        "default_lakehouse": "6cff634b-88f7-3505-bed2-c03a36776a8b",
        "default_lakehouse_name": "FUAM_Lakehouse",
        "default_lakehouse_workspace_id": "88c8d9fa-2c24-3fad-8f46-b36431c7ba1d",
        "known_lakehouses": []
      },
      "environment": {}
    }
  },
  "nbformat": 4,
  "nbformat_minor": 5
}