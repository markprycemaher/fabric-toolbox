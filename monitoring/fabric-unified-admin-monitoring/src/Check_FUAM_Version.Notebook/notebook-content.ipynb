{
  "cells": [
    {
      "cell_type": "markdown",
      "source": [
        "### Check FUAM Version\n",
        "\n",
        "This notebook checks from Fabric-Toolbox repository the latest version of FUAM.\n",
        "\n",
        "The FUAM_Core_Report will show you, if your current installed FUAM version should be updated."
      ],
      "metadata": {
        "nteract": {
          "transient": {
            "deleting": false
          }
        },
        "microsoft": {
          "language": "python",
          "language_group": "synapse_pyspark"
        }
      },
      "id": "b0fdda9f-2e67-4175-af3e-cd9fe61f7d91"
    },
    {
      "cell_type": "code",
      "source": [
        "# Parameters\n",
        "display_data = False"
      ],
      "outputs": [],
      "execution_count": 1,
      "metadata": {
        "microsoft": {
          "language": "python",
          "language_group": "synapse_pyspark"
        },
        "cellStatus": ""
      },
      "id": "75e2bbeb-edf0-42a3-b4e5-6c389d749ccd"
    },
    {
      "cell_type": "code",
      "source": [
        "from pyspark.sql.functions import lit\n",
        "import requests\n",
        "import json\n",
        "\n",
        "# Step 1: Fetch the JSON from the public URL\n",
        "url = \"https://raw.githubusercontent.com/microsoft/fabric-toolbox/refs/heads/main/monitoring/fabric-unified-admin-monitoring/data/current_fuam_version.json\"\n",
        "response = requests.get(url)\n",
        "data = response.json()\n",
        "\n",
        "# Step 2: Convert the JSON to a Spark DataFrame\n",
        "df = spark.createDataFrame([data])\n",
        "\n",
        "# Optional: Add a timestamp column for tracking\n",
        "from pyspark.sql.functions import current_timestamp\n",
        "df = df.withColumn(\"last_check_timestamp\", current_timestamp())\n"
      ],
      "outputs": [],
      "execution_count": 2,
      "metadata": {
        "microsoft": {
          "language": "python",
          "language_group": "synapse_pyspark"
        },
        "cellStatus": ""
      },
      "id": "65b83661-4bb7-432f-9692-e5b9b55587ae"
    },
    {
      "cell_type": "code",
      "source": [
        "if display_data:\n",
        "    display(df)"
      ],
      "outputs": [],
      "execution_count": 3,
      "metadata": {
        "microsoft": {
          "language": "python",
          "language_group": "synapse_pyspark"
        },
        "cellStatus": "",
        "collapsed": false
      },
      "id": "33e6eac2-7e97-4493-b2f4-a88336279054"
    },
    {
      "cell_type": "code",
      "source": [
        "# Step 3: Write the DataFrame to a Delta table in the Lakehouse\n",
        "df.write.format(\"delta\").mode(\"overwrite\").saveAsTable(\"audit_latest_available_fuam_version\")"
      ],
      "outputs": [],
      "execution_count": 4,
      "metadata": {
        "microsoft": {
          "language": "python",
          "language_group": "synapse_pyspark"
        },
        "cellStatus": ""
      },
      "id": "03b1108d-989b-478f-ba21-e519c5d4a1ff"
    }
  ],
  "metadata": {
    "kernel_info": {
      "name": "synapse_pyspark"
    },
    "kernelspec": {
      "name": "synapse_pyspark",
      "display_name": "synapse_pyspark"
    },
    "language_info": {
      "name": "python"
    },
    "microsoft": {
      "language": "python",
      "language_group": "synapse_pyspark",
      "ms_spell_check": {
        "ms_spell_check_language": "en"
      }
    },
    "nteract": {
      "version": "nteract-front-end@1.0.0"
    },
    "spark_compute": {
      "compute_id": "/trident/default",
      "session_options": {
        "conf": {
          "spark.synapse.nbs.session.timeout": "1200000"
        }
      }
    },
    "synapse_widget": {
      "version": "0.1",
      "state": {
        "d4aae001-ed93-4612-b738-156bc95d79c0": {
          "type": "Synapse.DataFrame",
          "sync_state": {
            "table": {
              "rows": [
                {
                  "0": "1",
                  "1": "2025.7.1",
                  "2": "2025",
                  "3": "7",
                  "4": "2025-07-18 10:32:13.762776"
                }
              ],
              "schema": [
                {
                  "key": "0",
                  "name": "build_version",
                  "type": "bigint"
                },
                {
                  "key": "1",
                  "name": "current_fuam_version",
                  "type": "string"
                },
                {
                  "key": "2",
                  "name": "major_version",
                  "type": "bigint"
                },
                {
                  "key": "3",
                  "name": "minor_version",
                  "type": "bigint"
                },
                {
                  "key": "4",
                  "name": "last_check_timestamp",
                  "type": "timestamp"
                }
              ],
              "truncated": false
            },
            "isSummary": false,
            "language": "scala",
            "wranglerEntryContext": {
              "candidateVariableNames": [
                "df"
              ],
              "dataframeType": "pyspark"
            }
          },
          "persist_state": {
            "view": {
              "type": "details",
              "tableOptions": {},
              "chartOptions": {
                "chartType": "bar",
                "categoryFieldKeys": [],
                "seriesFieldKeys": [],
                "aggregationType": "sum",
                "isStacked": false,
                "binsNumber": 10,
                "wordFrequency": "-1"
              },
              "viewOptionsGroup": [
                {
                  "tabItems": [
                    {
                      "type": "table",
                      "name": "Table",
                      "key": "0",
                      "options": {}
                    }
                  ]
                }
              ]
            }
          }
        }
      }
    },
    "dependencies": {
      "lakehouse": {
        "known_lakehouses": [
          {
            "id": "6cff634b-88f7-3505-bed2-c03a36776a8b"
          }
        ],
        "default_lakehouse": "6cff634b-88f7-3505-bed2-c03a36776a8b",
        "default_lakehouse_name": "FUAM_Lakehouse",
        "default_lakehouse_workspace_id": "88c8d9fa-2c24-3fad-8f46-b36431c7ba1d"
      }
    }
  },
  "nbformat": 4,
  "nbformat_minor": 5
}