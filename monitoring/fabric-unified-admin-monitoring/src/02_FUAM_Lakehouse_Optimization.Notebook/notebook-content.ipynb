{
  "cells": [
    {
      "cell_type": "markdown",
      "source": [
        "# Lakehouse Optimization\n",
        "This notebook uses optimize and vacuum for the lakehouse tables in order to delete unnecessary historic files and optimize performance"
      ],
      "metadata": {
        "nteract": {
          "transient": {
            "deleting": false
          }
        }
      },
      "id": "9e6a211c-1a78-40fe-8d8f-e7dc1c058d5d"
    },
    {
      "cell_type": "code",
      "source": [
        "number_of_days = 7 # must be bigger than 7 days, otherwise setting must be changed, this is used for vaccuum"
      ],
      "outputs": [],
      "execution_count": 13,
      "metadata": {
        "jupyter": {
          "source_hidden": false,
          "outputs_hidden": false
        },
        "nteract": {
          "transient": {
            "deleting": false
          }
        },
        "microsoft": {
          "language": "python",
          "language_group": "synapse_pyspark"
        },
        "cellStatus": "",
        "tags": [
          "parameters"
        ]
      },
      "id": "0b0dc056-25c3-41ea-bfaf-c0b36acdc391"
    },
    {
      "cell_type": "code",
      "source": [
        "%%sql \n",
        "SET spark.sql.parquet.vorder.enabled"
      ],
      "outputs": [],
      "execution_count": 6,
      "metadata": {
        "jupyter": {
          "source_hidden": false,
          "outputs_hidden": false
        },
        "nteract": {
          "transient": {
            "deleting": false
          }
        },
        "microsoft": {
          "language": "sparksql",
          "language_group": "synapse_pyspark"
        },
        "cellStatus": "",
        "collapsed": false
      },
      "id": "02c93f3b-9237-4e8c-88fc-014ba46a731f"
    },
    {
      "cell_type": "code",
      "source": [
        "tables = spark.catalog.listTables()"
      ],
      "outputs": [],
      "execution_count": 3,
      "metadata": {
        "jupyter": {
          "source_hidden": false,
          "outputs_hidden": false
        },
        "nteract": {
          "transient": {
            "deleting": false
          }
        },
        "microsoft": {
          "language": "python",
          "language_group": "synapse_pyspark"
        },
        "cellStatus": ""
      },
      "id": "5d05905d-adde-43c5-9d1a-b022d51e72ce"
    },
    {
      "cell_type": "code",
      "source": [
        "for tab in tables:\n",
        "    print(tab.name)\n",
        "\n",
        "    print(\"Run Optimize\")\n",
        "    spark.sql(\"\"\"\n",
        "        OPTIMIZE FUAM_Lakehouse.\"\"\" + tab.name + \"\"\" VORDER;\n",
        "    \"\"\")\n",
        "\n",
        "    print(\"Run Vacuum\")\n",
        "    spark.sql(\"\"\"\n",
        "        VACUUM FUAM_Lakehouse.\"\"\" + tab.name + \"\"\" RETAIN \"\"\" + str(number_of_days * 24) + \"\"\" HOURS\n",
        "    \"\"\")\n",
        "\n",
        "    \n"
      ],
      "outputs": [],
      "execution_count": 15,
      "metadata": {
        "jupyter": {
          "source_hidden": false,
          "outputs_hidden": false
        },
        "nteract": {
          "transient": {
            "deleting": false
          }
        },
        "microsoft": {
          "language": "python",
          "language_group": "synapse_pyspark"
        },
        "cellStatus": ""
      },
      "id": "db730b29-7708-48bd-be4f-aa74039db977"
    },
    {
      "cell_type": "code",
      "source": [],
      "outputs": [],
      "execution_count": null,
      "metadata": {
        "jupyter": {
          "source_hidden": false,
          "outputs_hidden": false
        },
        "nteract": {
          "transient": {
            "deleting": false
          }
        },
        "microsoft": {
          "language": "python",
          "language_group": "synapse_pyspark"
        },
        "cellStatus": ""
      },
      "id": "184f4d63-625a-4e95-80b3-de7904020ed2"
    }
  ],
  "metadata": {
    "kernel_info": {
      "name": "synapse_pyspark"
    },
    "kernelspec": {
      "name": "synapse_pyspark",
      "language": "Python",
      "display_name": "Synapse PySpark"
    },
    "language_info": {
      "name": "python"
    },
    "microsoft": {
      "language": "python",
      "language_group": "synapse_pyspark",
      "ms_spell_check": {
        "ms_spell_check_language": "en"
      }
    },
    "nteract": {
      "version": "nteract-front-end@1.0.0"
    },
    "spark_compute": {
      "compute_id": "/trident/default",
      "session_options": {
        "conf": {
          "spark.synapse.nbs.session.timeout": "1200000"
        }
      }
    },
    "dependencies": {
      "lakehouse": {
        "default_lakehouse": "6cff634b-88f7-3505-bed2-c03a36776a8b",
        "default_lakehouse_name": "FUAM_Lakehouse",
        "default_lakehouse_workspace_id": "88c8d9fa-2c24-3fad-8f46-b36431c7ba1d"
      }
    }
  },
  "nbformat": 4,
  "nbformat_minor": 5
}