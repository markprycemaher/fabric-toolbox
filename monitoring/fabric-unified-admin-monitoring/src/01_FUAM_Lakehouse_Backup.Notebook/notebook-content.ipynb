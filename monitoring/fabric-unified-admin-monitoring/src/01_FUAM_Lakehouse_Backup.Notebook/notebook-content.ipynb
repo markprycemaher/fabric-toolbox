{
  "cells": [
    {
      "cell_type": "markdown",
      "source": [
        "# Lakehouse Backup\n",
        "This notebook makes a regular backup of the tables from FUAM_Lakehouse to the FUAM_Lakehouse_Backup "
      ],
      "metadata": {
        "nteract": {
          "transient": {
            "deleting": false
          }
        }
      },
      "id": "9e6a211c-1a78-40fe-8d8f-e7dc1c058d5d"
    },
    {
      "cell_type": "code",
      "source": [
        "import sempy.fabric as fabric\n",
        "from datetime import datetime, timedelta"
      ],
      "outputs": [],
      "execution_count": null,
      "metadata": {
        "jupyter": {
          "source_hidden": false,
          "outputs_hidden": false
        },
        "nteract": {
          "transient": {
            "deleting": false
          }
        },
        "microsoft": {
          "language": "python",
          "language_group": "synapse_pyspark"
        },
        "cellStatus": ""
      },
      "id": "bd06dcb9-2cfc-48cf-b684-b57021f4b0fb"
    },
    {
      "cell_type": "code",
      "source": [
        "backup_files = True\n",
        "keep_historic_days = 7\n",
        "\n",
        "fuam_workspace_id = '88c8d9fa-2c24-3fad-8f46-b36431c7ba1d'\n",
        "fuam_lakehouse_id = '6cff634b-88f7-3505-bed2-c03a36776a8b'"
      ],
      "outputs": [],
      "execution_count": null,
      "metadata": {
        "jupyter": {
          "source_hidden": false,
          "outputs_hidden": false
        },
        "nteract": {
          "transient": {
            "deleting": false
          }
        },
        "microsoft": {
          "language": "python",
          "language_group": "synapse_pyspark"
        },
        "cellStatus": "",
        "tags": [
          "parameters"
        ]
      },
      "id": "47a84f3f-65dd-464a-9f3e-b8aebeeccbdc"
    },
    {
      "cell_type": "code",
      "source": [
        "# Init the client\n",
        "client = fabric.FabricRestClient()\n",
        "\n",
        "# Set date helpers\n",
        "current_time = datetime.now()"
      ],
      "outputs": [],
      "execution_count": null,
      "metadata": {
        "jupyter": {
          "source_hidden": false,
          "outputs_hidden": false
        },
        "nteract": {
          "transient": {
            "deleting": false
          }
        },
        "microsoft": {
          "language": "python",
          "language_group": "synapse_pyspark"
        },
        "cellStatus": ""
      },
      "id": "c867ecd3-a09c-40f2-b640-5746957a0ab7"
    },
    {
      "cell_type": "code",
      "source": [
        "fuam_lakehouse_tables_path = f\"abfss://{fuam_workspace_id}@onelake.dfs.fabric.microsoft.com/{fuam_lakehouse_id}/Tables\"\n",
        "fuam_lakehouse_files_path = f\"abfss://{fuam_workspace_id}@onelake.dfs.fabric.microsoft.com/{fuam_lakehouse_id}/Files\"\n"
      ],
      "outputs": [],
      "execution_count": null,
      "metadata": {
        "jupyter": {
          "source_hidden": false,
          "outputs_hidden": false
        },
        "nteract": {
          "transient": {
            "deleting": false
          }
        },
        "microsoft": {
          "language": "python",
          "language_group": "synapse_pyspark"
        },
        "cellStatus": ""
      },
      "id": "2cbd0952-24d9-44df-920d-d54d3d6b68e4"
    },
    {
      "cell_type": "code",
      "source": [
        "notebookutils.fs.fastcp(fuam_lakehouse_tables_path, 'Files/'+ current_time.strftime(\"%Y/%m/%d\") + '/Tables', True)\n",
        "if backup_files:\n",
        "   notebookutils.fs.fastcp(fuam_lakehouse_files_path, 'Files/'+ current_time.strftime(\"%Y/%m/%d\") + '/Files', True) "
      ],
      "outputs": [],
      "execution_count": null,
      "metadata": {
        "jupyter": {
          "source_hidden": false,
          "outputs_hidden": false
        },
        "nteract": {
          "transient": {
            "deleting": false
          }
        },
        "microsoft": {
          "language": "python",
          "language_group": "synapse_pyspark"
        },
        "cellStatus": ""
      },
      "id": "4e735299-f956-4b8b-bb07-c3ec6886d94c"
    },
    {
      "cell_type": "markdown",
      "source": [
        "Remove historic backups olders than keep_historic_days\n"
      ],
      "metadata": {
        "nteract": {
          "transient": {
            "deleting": false
          }
        }
      },
      "id": "beef3953-7b13-43d9-a398-41a2c9844fa2"
    },
    {
      "cell_type": "code",
      "source": [
        "subfolders = []\n",
        "def list_subfolders(path, max_level, date_path):\n",
        "  for item in mssparkutils.fs.ls(path):\n",
        "    if max_level > 0:\n",
        "      list_subfolders(item.path, max_level - 1, date_path + '-' + item.name)\n",
        "    else:\n",
        "      fold = {}\n",
        "      fold[\"date\"] = datetime.strptime((date_path + '-' + item.name)[1:], \"%Y-%m-%d\")\n",
        "      fold[\"path\"] = item.path\n",
        "      subfolders.append(fold)\n",
        "    \n",
        "\n",
        "list_subfolders('Files/', max_level= 2, date_path = '')\n",
        "\n",
        "\n",
        "for dat in subfolders:\n",
        "  \n",
        "  time_between_insertion = datetime.now() - dat['date']\n",
        "  if  time_between_insertion.days > keep_historic_days:\n",
        "    print(dat['date'])\n",
        "    print(dat['path'])\n",
        "    mssparkutils.fs.rm(dat['path'], True) # Set the last parameter as True to remove all files and directories recursively"
      ],
      "outputs": [],
      "execution_count": null,
      "metadata": {
        "jupyter": {
          "source_hidden": false,
          "outputs_hidden": false
        },
        "nteract": {
          "transient": {
            "deleting": false
          }
        },
        "microsoft": {
          "language": "python",
          "language_group": "synapse_pyspark"
        },
        "cellStatus": ""
      },
      "id": "da45876e-55a5-4ed6-ae1e-9fd5bb48ddf4"
    },
    {
      "cell_type": "markdown",
      "source": [
        "Remove empty folders after old backups have been removed"
      ],
      "metadata": {
        "nteract": {
          "transient": {
            "deleting": false
          }
        }
      },
      "id": "d953004b-5f76-478e-8bf4-f0a680ae1ee7"
    },
    {
      "cell_type": "code",
      "source": [
        "def find_empty_dirs(path, max_level):\n",
        "    directories = notebookutils.fs.ls(path)\n",
        "    for directory in directories:\n",
        "        if (directory.size == 0) & (max_level > 0):\n",
        "            find_empty_dirs(directory.path, max_level - 1)\n",
        "            contents = notebookutils.fs.ls(directory.path)\n",
        "            if len(contents) == 0:\n",
        "                # Logic\n",
        "                notebookutils.fs.rm(directory.path, recurse=True)\n",
        "                print(f\"Removed empty directory: {directory.path}\")\n",
        "\n",
        "find_empty_dirs('Files/', 4)"
      ],
      "outputs": [],
      "execution_count": null,
      "metadata": {
        "jupyter": {
          "source_hidden": false,
          "outputs_hidden": false
        },
        "nteract": {
          "transient": {
            "deleting": false
          }
        },
        "microsoft": {
          "language": "python",
          "language_group": "synapse_pyspark"
        },
        "cellStatus": ""
      },
      "id": "08b22f58-a116-418c-88b8-38a8ddfd1bb1"
    },
    {
      "cell_type": "code",
      "source": [],
      "outputs": [],
      "execution_count": null,
      "metadata": {
        "microsoft": {
          "language": "python",
          "language_group": "synapse_pyspark"
        },
        "cellStatus": ""
      },
      "id": "2c87be8c-b099-4c48-a8b1-3e899054d679"
    }
  ],
  "metadata": {
    "kernel_info": {
      "name": "synapse_pyspark"
    },
    "kernelspec": {
      "name": "synapse_pyspark",
      "language": "Python",
      "display_name": "Synapse PySpark"
    },
    "language_info": {
      "name": "python"
    },
    "microsoft": {
      "language": "python",
      "language_group": "synapse_pyspark",
      "ms_spell_check": {
        "ms_spell_check_language": "en"
      }
    },
    "nteract": {
      "version": "nteract-front-end@1.0.0"
    },
    "spark_compute": {
      "compute_id": "/trident/default",
      "session_options": {
        "conf": {
          "spark.synapse.nbs.session.timeout": "1200000"
        }
      }
    },
    "dependencies": {
      "lakehouse": {
        "default_lakehouse": "8522e61c-5940-353d-92d3-c1f594a3c681",
        "known_lakehouses": [],
        "default_lakehouse_name": "FUAM_Backup_Lakehouse",
        "default_lakehouse_workspace_id": "88c8d9fa-2c24-3fad-8f46-b36431c7ba1d"
      }
    }
  },
  "nbformat": 4,
  "nbformat_minor": 5
}