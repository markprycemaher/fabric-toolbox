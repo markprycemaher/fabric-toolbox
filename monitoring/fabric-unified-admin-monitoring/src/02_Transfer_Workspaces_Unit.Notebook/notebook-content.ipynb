{
  "cells": [
    {
      "cell_type": "markdown",
      "source": [
        "#### Workspaces\n",
        "\n",
        "##### Data ingestion strategy:\n",
        "<mark style=\"background: #88D5FF;\">**REPLACE**</mark>\n",
        "\n",
        "##### Related pipeline:\n",
        "\n",
        "**Load_PBI_Workspaces_E2E**\n",
        "\n",
        "##### Source:\n",
        "\n",
        "**Files** from FUAM_Lakehouse folder **bronze_file_location** variable\n",
        "\n",
        "##### Target:\n",
        "\n",
        "**1 Delta table** in FUAM_Lakehouse \n",
        "- **gold_table_name** variable value\n"
      ],
      "metadata": {},
      "id": "e6f3fbdd-e0f2-48ce-82f6-a393d512149e"
    },
    {
      "cell_type": "code",
      "source": [
        "import requests\n",
        "from pyspark.sql.functions import col, lit, udf, explode, to_date, json_tuple, from_json, schema_of_json, get_json_object\n",
        "from pyspark.sql.types import StringType, json\n",
        "from pyspark.sql import SparkSession\n",
        "import json\n",
        "from delta.tables import *\n",
        "import pyspark.sql.functions as f\n",
        "from pyspark.sql.types import *\n",
        "import datetime\n",
        "spark.conf.set(\"spark.databricks.delta.schema.autoMerge.enabled\",\"true\") # needed for automatic schema evolution in merge "
      ],
      "outputs": [],
      "execution_count": 12,
      "metadata": {
        "microsoft": {
          "language": "python",
          "language_group": "synapse_pyspark"
        },
        "cellStatus": ""
      },
      "id": "f03f0365-c0b9-433b-a0d1-17bd3c7966bf"
    },
    {
      "cell_type": "code",
      "source": [
        "## Parameters\n",
        "display_data = False"
      ],
      "outputs": [],
      "execution_count": 13,
      "metadata": {
        "tags": [
          "parameters"
        ],
        "microsoft": {
          "language": "python",
          "language_group": "synapse_pyspark"
        },
        "cellStatus": ""
      },
      "id": "b5e7d90a-f8d8-4391-8ad3-09b543c19024"
    },
    {
      "cell_type": "code",
      "source": [
        "## Variables\n",
        "bronze_file_location = f\"Files/raw/workspaces/\"\n",
        "silver_table_name = \"FUAM_Staging_Lakehouse.workspaces_silver\"\n",
        "gold_table_name = \"workspaces\"\n",
        "gold_table_name_with_prefix = f\"Tables/{gold_table_name}\""
      ],
      "outputs": [],
      "execution_count": 14,
      "metadata": {
        "microsoft": {
          "language": "python",
          "language_group": "synapse_pyspark"
        },
        "cellStatus": ""
      },
      "id": "c69faf2b-0bf5-4b43-8fc9-bb44d210f886"
    },
    {
      "cell_type": "code",
      "source": [
        "# Clean Silver table, if exists\n",
        "if spark.catalog.tableExists(silver_table_name):\n",
        "    del_query = \"DELETE FROM \" + silver_table_name\n",
        "    spark.sql(del_query)"
      ],
      "outputs": [],
      "execution_count": 15,
      "metadata": {
        "microsoft": {
          "language": "python",
          "language_group": "synapse_pyspark"
        },
        "cellStatus": ""
      },
      "id": "61739131-ac46-46e9-bb6b-7d88a66a7382"
    },
    {
      "cell_type": "code",
      "source": [
        "# Get Bronze data\n",
        "bronze_df = spark.read.option(\"multiline\", \"true\").json(bronze_file_location)"
      ],
      "outputs": [],
      "execution_count": 16,
      "metadata": {
        "microsoft": {
          "language": "python",
          "language_group": "synapse_pyspark"
        },
        "cellStatus": ""
      },
      "id": "59be80f0-a309-4e83-9fc4-a7666be86bcb"
    },
    {
      "cell_type": "code",
      "source": [
        "# Explode json subset structure\n",
        "exploded_df = bronze_df.select(explode(\"value\").alias(\"d\"))\n",
        "\n",
        "# Extract json objects to tabular form\n",
        "extracted_df = exploded_df.select(col(\"d.*\"))\n",
        "\n",
        "# Convert key(s) to upper case\n",
        "extracted_df = extracted_df.withColumn(\"id\", f.upper(f.col(\"id\")))\n",
        "extracted_df = extracted_df.withColumn(\"capacityId\", f.upper(f.col(\"capacityId\")))\n",
        "\n",
        "# Generate empty description column in case it is not available\n",
        "if  not (\"description\" in extracted_df.columns):\n",
        "    print(\"Create empty description column\")\n",
        "    extracted_df = extracted_df.withColumn(\"description\", lit(\"\"))\n",
        "\n",
        "# Select all columns\n",
        "silver_df = extracted_df.select(\n",
        "    col(\"capacityId\").alias(\"CapacityId\"),\n",
        "    col(\"id\").alias(\"WorkspaceId\"),\n",
        "    col(\"capacityMigrationStatus\").alias(\"CapacityMigrationStatus\"),\n",
        "    col(\"defaultDatasetStorageFormat\").alias(\"DefaultDatasetStorageFormat\"),\n",
        "    col(\"description\").alias(\"Description\"),\n",
        "    col(\"hasWorkspaceLevelSettings \").alias(\"HasWorkspaceLevelSettings\"),\n",
        "    col(\"isOnDedicatedCapacity\").alias(\"IsOnDedicatedCapacity\"),\n",
        "    col(\"isReadOnly\").alias(\"IsReadOnly\"),\n",
        "    col(\"name\").alias(\"WorkspaceName\"),\n",
        "    col(\"state\").alias(\"State\"),\n",
        "    col(\"type\").alias(\"Type\")\n",
        "    )\n"
      ],
      "outputs": [],
      "execution_count": 17,
      "metadata": {
        "microsoft": {
          "language": "python",
          "language_group": "synapse_pyspark"
        },
        "cellStatus": ""
      },
      "id": "1af6c25a-8b27-4066-b29f-0eb1967ba5a7"
    },
    {
      "cell_type": "code",
      "source": [
        "if display_data:\n",
        "    display(silver_df)"
      ],
      "outputs": [],
      "execution_count": 18,
      "metadata": {
        "microsoft": {
          "language": "python",
          "language_group": "synapse_pyspark"
        },
        "cellStatus": ""
      },
      "id": "d04bb645-fa43-482a-b96f-292422d5ff63"
    },
    {
      "cell_type": "code",
      "source": [
        "# Write prepared bronze_df to silver delta table\n",
        "silver_df.write.mode(\"append\").option(\"mergeSchema\", \"true\").format(\"delta\").saveAsTable(silver_table_name)"
      ],
      "outputs": [],
      "execution_count": 19,
      "metadata": {
        "microsoft": {
          "language": "python",
          "language_group": "synapse_pyspark"
        },
        "cellStatus": ""
      },
      "id": "74d9a7a3-cd0b-417d-987a-9ba70c3bb108"
    },
    {
      "cell_type": "code",
      "source": [
        "\n",
        "# This function maps and merges the silver data to gold dynamically\n",
        "def write_silver_to_gold(silver_table_name, gold_table_name, ids):\n",
        "    query = \"SELECT *, current_timestamp() AS fuam_modified_at, False as fuam_deleted  FROM \" + silver_table_name \n",
        "    silver_df = spark.sql(query)\n",
        "    \n",
        "    if spark._jsparkSession.catalog().tableExists('FUAM_Lakehouse', gold_table_name):\n",
        "        # if exists -> MERGE to gold\n",
        "        print(\"Gold table exists and will be merged.\")\n",
        "        gold_df = DeltaTable.forName(spark, gold_table_name)\n",
        "\n",
        "\n",
        "        gold_columns = gold_df.toDF().columns\n",
        "        silver_columns = silver_df.columns\n",
        "        combined_columns = list(set(gold_columns) | set(silver_columns))\n",
        "        id_cols = {}\n",
        "        merge_id_stmt = ''\n",
        "        for col in combined_columns:\n",
        "            if col in ids:\n",
        "                merge_id_stmt =  merge_id_stmt +  \" t.\" + col + \" = s.\" + col + \" and\"\n",
        "                id_cols[col] = \"s.\" + col\n",
        "\n",
        "                \n",
        "        # delete last and in merge id statement\n",
        "        merge_id_stmt = merge_id_stmt[:-4]\n",
        "\n",
        "\n",
        "        # Merge silver (s = source) to gold (t = target)\n",
        "        try:\n",
        "            merge = (gold_df.alias('t') \\\n",
        "            .merge(silver_df.alias('s'), merge_id_stmt )) \\\n",
        "            .whenMatchedUpdateAll() \\\n",
        "            .whenNotMatchedInsertAll() \\\n",
        "            .whenNotMatchedBySourceUpdate( condition = \"t.fuam_deleted == False or t.fuam_deleted IS NULL\", set = {\"fuam_deleted\" : \"True\", \"fuam_modified_at\": \"current_timestamp()\"} )\n",
        "            \n",
        "            merge.execute()\n",
        "        except:\n",
        "        # In case the tables already exist, but the fuam column are not existent because of an old version do merge whenNotMatchedBySourceUpdate\n",
        "            merge = (gold_df.alias('t') \\\n",
        "            .merge(silver_df.alias('s'), merge_id_stmt )) \\\n",
        "            .whenMatchedUpdateAll() \\\n",
        "            .whenNotMatchedInsertAll() \\\n",
        "                        \n",
        "            merge.execute()\n",
        "\n",
        "    else:\n",
        "        # else -> INSERT to gold\n",
        "        print(\"Gold table will be created.\")\n",
        "\n",
        "        silver_df.write.mode(\"append\").option(\"mergeSchema\", \"true\").format(\"delta\").saveAsTable(gold_table_name)"
      ],
      "outputs": [],
      "execution_count": 20,
      "metadata": {
        "jupyter": {
          "source_hidden": false,
          "outputs_hidden": false
        },
        "nteract": {
          "transient": {
            "deleting": false
          }
        },
        "microsoft": {
          "language": "python",
          "language_group": "synapse_pyspark"
        },
        "cellStatus": ""
      },
      "id": "581c54c3-0afd-493d-b6d0-14bd415b4158"
    },
    {
      "cell_type": "code",
      "source": [
        "# Merge semantic model refreshes to gold table\n",
        "write_silver_to_gold(silver_table_name, gold_table_name, ['WorkspaceId'])"
      ],
      "outputs": [],
      "execution_count": 21,
      "metadata": {
        "jupyter": {
          "source_hidden": false,
          "outputs_hidden": false
        },
        "nteract": {
          "transient": {
            "deleting": false
          }
        },
        "microsoft": {
          "language": "python",
          "language_group": "synapse_pyspark"
        },
        "cellStatus": ""
      },
      "id": "2cf057a6-822c-44c9-9ceb-e66f2b8859c3"
    },
    {
      "cell_type": "code",
      "source": [
        "\n",
        "# write history of bronze files\n",
        "\n",
        "mssparkutils.fs.cp(bronze_file_location, bronze_file_location.replace(\"Files/raw/\", \"Files/history/\") + datetime.datetime.now().strftime('%Y/%m/%d') + \"/\", True)"
      ],
      "outputs": [],
      "execution_count": 22,
      "metadata": {
        "microsoft": {
          "language": "python",
          "language_group": "synapse_pyspark"
        },
        "cellStatus": ""
      },
      "id": "375e3168-aa62-4abc-b2ee-09f41a2b8f3f"
    }
  ],
  "metadata": {
    "language_info": {
      "name": "python"
    },
    "kernel_info": {
      "name": "synapse_pyspark"
    },
    "a365ComputeOptions": null,
    "sessionKeepAliveTimeout": 0,
    "microsoft": {
      "language": "python",
      "language_group": "synapse_pyspark",
      "ms_spell_check": {
        "ms_spell_check_language": "en"
      }
    },
    "widgets": {},
    "nteract": {
      "version": "nteract-front-end@1.0.0"
    },
    "kernelspec": {
      "name": "synapse_pyspark",
      "language": "Python",
      "display_name": "Synapse PySpark"
    },
    "spark_compute": {
      "compute_id": "/trident/default",
      "session_options": {
        "conf": {
          "spark.synapse.nbs.session.timeout": "1200000"
        }
      }
    },
    "dependencies": {
      "lakehouse": {
        "default_lakehouse": "6cff634b-88f7-3505-bed2-c03a36776a8b",
        "default_lakehouse_name": "FUAM_Lakehouse",
        "default_lakehouse_workspace_id": "88c8d9fa-2c24-3fad-8f46-b36431c7ba1d"
      },
      "environment": {}
    }
  },
  "nbformat": 4,
  "nbformat_minor": 5
}